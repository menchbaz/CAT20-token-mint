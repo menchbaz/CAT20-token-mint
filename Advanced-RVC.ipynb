{
  "cells": [
    {
      "cell_type": "markdown",
      "metadata": {
        "id": "view-in-github",
        "colab_type": "text"
      },
      "source": [
        "<a href=\"https://colab.research.google.com/github/menchbaz/CAT20-token-mint/blob/main/Advanced-RVC.ipynb\" target=\"_parent\"><img src=\"https://colab.research.google.com/assets/colab-badge.svg\" alt=\"Open In Colab\"/></a>"
      ]
    },
    {
      "cell_type": "code",
      "execution_count": null,
      "metadata": {
        "cellView": "form",
        "id": "sfqNqmS-rEPK"
      },
      "outputs": [],
      "source": [
        "#@title Install Dependencies\n",
        "from IPython.display import clear_output\n",
        "from ipywidgets import Button\n",
        "\n",
        "\n",
        "\n",
        "\n",
        "# ===== Clone Repository ===== #\n",
        "\n",
        "!git clone -b master https://github.com/ArkanDash/Advanced-RVC-Inference\n",
        "\n",
        "%cd  /content/Advanced-RVC-Inference\n",
        "\n",
        "\n",
        "\n",
        "# ===== Install requirements ===== #\n",
        "!pip install pip==24.0\n",
        "!pip install -r ./requirements.txt"
      ]
    },
    {
      "cell_type": "code",
      "execution_count": null,
      "metadata": {
        "cellView": "form",
        "id": "95tEKjsUrEPQ"
      },
      "outputs": [],
      "source": [
        "#@title Download Hubert & base Model\n",
        "\n",
        "\n",
        "\n",
        "\n",
        "!python ./models.py"
      ]
    },
    {
      "cell_type": "code",
      "source": [
        "#@title Upload\n",
        "import yt_dlp\n",
        "import os\n",
        "from google.colab import files\n",
        "\n",
        "output_directory = '/content/yt_dlp'\n",
        "os.makedirs(output_directory, exist_ok=True)\n",
        "\n",
        "input_method = \"Direct Upload\" #@param [\"YouTube Link\", \"Direct Upload\"]\n",
        "\n",
        "if input_method == \"YouTube Link\":\n",
        "    video_url = \"https://youtube.com/shorts/9ILsUPNcCZA?si=1RYlximASwogquwF\" #@param {type:\"string\"}\n",
        "\n",
        "    def download_wav(video_url, output_dir):\n",
        "        ydl_opts = {\n",
        "            'format': 'bestaudio/best',\n",
        "            'outtmpl': os.path.join(output_dir, '%(title)s.%(ext)s'),\n",
        "            'noplaylist': True,\n",
        "            'extract_audio': True,\n",
        "            'audio_format': 'wav',\n",
        "            'postprocessors': [{\n",
        "                'key': 'FFmpegExtractAudio',\n",
        "                'preferredcodec': 'wav',\n",
        "            }]\n",
        "        }\n",
        "\n",
        "        with yt_dlp.YoutubeDL(ydl_opts) as ydl:\n",
        "            ydl.download([video_url])\n",
        "\n",
        "        # Rename the downloaded file\n",
        "        for file in os.listdir(output_dir):\n",
        "            if file.endswith('.wav'):\n",
        "                old_path = os.path.join(output_dir, file)\n",
        "                new_filename = \"audio_input.wav\"\n",
        "                new_path = os.path.join(output_dir, new_filename)\n",
        "                os.rename(old_path, new_path)\n",
        "                print(f\"مسیر فایل شما: {new_path}\")\n",
        "                return new_path\n",
        "\n",
        "    download_wav(video_url, output_directory)\n",
        "\n",
        "else:\n",
        "    print(\"Please upload your audio file:\")\n",
        "    uploaded = files.upload()\n",
        "    for filename in uploaded.keys():\n",
        "        with open(os.path.join(output_directory, filename), 'wb') as f:\n",
        "            f.write(uploaded[filename])\n",
        "        print(f\"مسیر فایل شما: {os.path.join(output_directory, filename)}\")"
      ],
      "metadata": {
        "cellView": "form",
        "id": "vmRRgYtQ3SWs"
      },
      "execution_count": null,
      "outputs": []
    },
    {
      "cell_type": "code",
      "source": [
        "#@title Separate\n",
        "from audio_separator.separator import Separator\n",
        "\n",
        "aud_input = \"/content/yt_dlp/audio_input.wav\" #@param {type:\"string\"}\n",
        "output_dir = \"/content/separated\" #@param {type:\"string\"}\n",
        "\n",
        "separator = Separator(output_dir=output_dir, output_format=\"wav\")\n",
        "separator.load_model()\n",
        "output_files = separator.separate(aud_input)\n",
        "print(f\"Separation complete!\")"
      ],
      "metadata": {
        "cellView": "form",
        "id": "zT7AOf4J5p7U"
      },
      "execution_count": null,
      "outputs": []
    }
  ],
  "metadata": {
    "language_info": {
      "name": "python"
    },
    "orig_nbformat": 4,
    "colab": {
      "provenance": [],
      "gpuType": "T4",
      "include_colab_link": true
    },
    "kernelspec": {
      "name": "python3",
      "display_name": "Python 3"
    },
    "accelerator": "GPU"
  },
  "nbformat": 4,
  "nbformat_minor": 0
}